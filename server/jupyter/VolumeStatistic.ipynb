{
 "cells": [
  {
   "cell_type": "code",
   "execution_count": null,
   "metadata": {
    "collapsed": true,
    "deletable": true,
    "editable": true
   },
   "outputs": [],
   "source": [
    "import os\n",
    "import sys\n",
    "pwd = os.getcwd()\n",
    "sys.path.append(os.path.join(pwd, '..', '..'))\n",
    "\n",
    "from server.utils import load_config\n",
    "from server import db\n",
    "from sqlalchemy.orm import sessionmaker\n",
    "import json\n",
    "import matplotlib.pyplot as plt\n",
    "\n",
    "conf_dir = os.path.abspath(os.path.join(pwd, '..', '..', 'config', 'base.yaml'))\n",
    "config = load_config(conf_dir)\n",
    "\n",
    "engine = db.sync_engine(config['postgres'])\n",
    "Session = sessionmaker(bind=engine)\n",
    "session = Session()"
   ]
  },
  {
   "cell_type": "code",
   "execution_count": null,
   "metadata": {
    "collapsed": true,
    "deletable": true,
    "editable": true
   },
   "outputs": [],
   "source": [
    "from sqlalchemy.orm.exc import NoResultFound\n",
    "import sqlalchemy as sa\n",
    "from server.trade.VolumeStrategy import VolumeStrategy\n",
    "from server.trade.player import START_TIME, END_TIME\n",
    "\n",
    "rate = 1\n",
    "table_name = 'demo_order'\n",
    "table = getattr(db, table_name)\n",
    "all_orders_flag = 1\n",
    "start_date_filter = START_TIME\n",
    "end_date_filter = END_TIME\n",
    "\n",
    "pair = VolumeStrategy.PAIR\n",
    "\n",
    "cursor = session.query(table).filter(\n",
    "    (table.c.extra[VolumeStrategy.ORDER_CLASS.FLAG_NAME].astext == '0')\n",
    "    & (table.c.pair == pair)\n",
    "    & (table.c.pub_date > start_date_filter)\n",
    "    & (table.c.pub_date < end_date_filter)\n",
    ").order_by(table.c.pub_date)\n",
    "\n",
    "if all_orders_flag:\n",
    "    all_orders = session.query(table).filter(\n",
    "        (table.c.pair == pair)\n",
    "        & (table.c.pub_date > start_date_filter)\n",
    "        & (table.c.pub_date < end_date_filter)\n",
    "    ).order_by(table.c.pub_date)\n",
    "\n",
    "if rate:\n",
    "    rate = session.query(db.history).filter(\n",
    "        (db.history.c.pub_date > start_date_filter)\n",
    "        & (db.history.c.pub_date < end_date_filter)\n",
    "        & (db.history.c.pair == pair)\n",
    "        & (sa.sql.func.random() < 0.007)\n",
    "    ).order_by(db.history.c.pub_date)"
   ]
  },
  {
   "cell_type": "code",
   "execution_count": null,
   "metadata": {
    "collapsed": true,
    "deletable": true,
    "editable": true
   },
   "outputs": [],
   "source": [
    "def iter_tail(item, tail):\n",
    "    next_steps = session.query(table).filter(\n",
    "        ((table.c.extra['parent'].astext == str(item['id']))\n",
    "        | (table.c.extra['merged'].astext == str(item['id']))\n",
    "        ) \n",
    "        & (table.c.pub_date > start_date_filter)\n",
    "        & (table.c.pub_date < end_date_filter)\n",
    "    )\n",
    "    if not next_steps.count():\n",
    "        if len(tail) == 0:\n",
    "            tail.append([item, item])\n",
    "        return tail\n",
    "    else: \n",
    "        for next_step in next_steps:\n",
    "            next_step_item = as_dict(next_step)\n",
    "            tail.append([item, next_step_item])\n",
    "            tail = iter_tail(next_step_item, tail)\n",
    "        return tail"
   ]
  },
  {
   "cell_type": "code",
   "execution_count": null,
   "metadata": {
    "collapsed": false,
    "deletable": true,
    "editable": true
   },
   "outputs": [],
   "source": [
    "order_dict = {\n",
    "    'sell': [],\n",
    "    'buy': []\n",
    "}\n",
    "if all_orders_flag:\n",
    "    for order in all_orders:\n",
    "        order_dict['sell' if order.is_sell else 'buy'].append({\n",
    "            'date': order.pub_date,\n",
    "            'price': order.price\n",
    "        })\n",
    "if rate:   \n",
    "    rate_dict = {\n",
    "        'date': [],\n",
    "        'sell_price': [],\n",
    "        'buy_price': []\n",
    "    }\n",
    "    for rate_info in rate:\n",
    "        resp = json.loads(rate_info.resp)\n",
    "        rate_dict['date'].append(rate_info.pub_date)\n",
    "        rate_dict['buy_price'].append(resp['asks'][0][0])\n",
    "        rate_dict['sell_price'].append(resp['bids'][0][0])\n",
    "    print(len(rate_dict['date']))"
   ]
  },
  {
   "cell_type": "code",
   "execution_count": null,
   "metadata": {
    "collapsed": false,
    "deletable": true,
    "editable": true
   },
   "outputs": [],
   "source": [
    "plt.cla()\n",
    "plt.clf()\n",
    "fig = plt.figure(figsize=(20,10))\n",
    "\n",
    "ay = fig.add_subplot(1,1,1)\n",
    "ay.grid(True)\n",
    "\n",
    "for name, vals in order_dict.items():\n",
    "    ay.plot(\n",
    "        list(map(lambda i: i['date'], vals)), \n",
    "        list(map(lambda i: i['price'], vals)),\n",
    "        color = 'red' if name == 'sell' else 'blue',\n",
    "        marker= '.'\n",
    "    )\n",
    "\n",
    "if rate:    \n",
    "    ay.plot(rate_dict['date'], rate_dict['buy_price'], alpha=0.2, color='blue')\n",
    "    ay.plot(rate_dict['date'], rate_dict['sell_price'], alpha=0.2, color='red')\n",
    "print(all_orders_flag)\n",
    "\n",
    "fig"
   ]
  },
  {
   "cell_type": "code",
   "execution_count": null,
   "metadata": {
    "collapsed": true,
    "deletable": true,
    "editable": true
   },
   "outputs": [],
   "source": []
  }
 ],
 "metadata": {
  "kernelspec": {
   "display_name": "Python 3",
   "language": "python",
   "name": "python3"
  },
  "language_info": {
   "codemirror_mode": {
    "name": "ipython",
    "version": 3
   },
   "file_extension": ".py",
   "mimetype": "text/x-python",
   "name": "python",
   "nbconvert_exporter": "python",
   "pygments_lexer": "ipython3",
   "version": "3.6.0"
  }
 },
 "nbformat": 4,
 "nbformat_minor": 2
}
