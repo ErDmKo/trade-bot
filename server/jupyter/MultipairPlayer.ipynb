{
 "cells": [
  {
   "cell_type": "code",
   "execution_count": null,
   "metadata": {
    "collapsed": true,
    "deletable": true,
    "editable": true
   },
   "outputs": [],
   "source": [
    "import os\n",
    "import sys\n",
    "pwd = os.getcwd()\n",
    "sys.path.append(os.path.join(pwd, '..', '..'))\n",
    "\n",
    "from server.utils import load_config\n",
    "from server import db\n",
    "from sqlalchemy.orm import sessionmaker\n",
    "import json\n",
    "\n",
    "conf_dir = os.path.abspath(os.path.join(pwd, '..', '..', 'config', 'base.yaml'))\n",
    "config = load_config(conf_dir)\n",
    "\n",
    "engine = db.sync_engine(config['postgres'])\n",
    "Session = sessionmaker(bind=engine)\n",
    "session = Session()"
   ]
  },
  {
   "cell_type": "code",
   "execution_count": null,
   "metadata": {
    "collapsed": true,
    "deletable": true,
    "editable": true
   },
   "outputs": [],
   "source": [
    "start_date_filter = '2017-12-05 00:00'\n",
    "end_date_filter = '2017-12-10 23:59'"
   ]
  },
  {
   "cell_type": "code",
   "execution_count": null,
   "metadata": {
    "collapsed": false,
    "deletable": true,
    "editable": true
   },
   "outputs": [],
   "source": [
    "from server.trade.MultiplePairs import MultiplePairs\n",
    "from server.trade.player import run_script\n",
    "import logging\n",
    "logger = logging.getLogger()\n",
    "logger.setLevel(logging.CRITICAL)\n",
    "run_script(\n",
    "    strategy_class = MultiplePairs, \n",
    "    start_date = start_date_filter,\n",
    "    end_date = end_date_filter,\n",
    "    conf = config,\n",
    "    constructor = {\n",
    "        'fee': 1 \n",
    "    }\n",
    ")"
   ]
  },
  {
   "cell_type": "code",
   "execution_count": null,
   "metadata": {
    "collapsed": true,
    "deletable": true,
    "editable": true
   },
   "outputs": [],
   "source": [
    "class PairInfo(object):\n",
    "    def __init__(self, pair):\n",
    "        print('Pair {}'.format(pair))\n",
    "        self.pair = pair\n",
    "        self.buy_dir, self.sell_dir = pair.split(\"_\")\n",
    "        self.order_dict = {\n",
    "            'sell': [],\n",
    "            'buy': []\n",
    "        }\n",
    "        self.rate_dict = {\n",
    "            'date': [],\n",
    "            'sell_price': [],\n",
    "            'buy_price': []\n",
    "        }\n",
    "\n",
    "    def get_orders(self):\n",
    "        return self.order_dict['sell'] + self.order_dict['buy']\n",
    "    \n",
    "    def as_dict(row):\n",
    "        item = row._asdict().copy()\n",
    "        return item\n",
    "    \n",
    "    def get_fee(delta):\n",
    "        return (1 + (delta*(0.2 + 0)/100))\n",
    "    \n",
    "    def calc_money(order):\n",
    "        if order['is_sell']:\n",
    "            buy_delta = -1\n",
    "            sell_delta = 1\n",
    "            fee_delta = -1\n",
    "        else:\n",
    "            buy_delta = 1\n",
    "            sell_delta = -1\n",
    "            fee_delta = 1\n",
    "        return {\n",
    "            sell_dir: sell_delta * order['amount'] * order['price'] * get_fee(fee_delta),\n",
    "            buy_dir: buy_delta * order['amount']\n",
    "        }\n",
    "    \n",
    "    def calcOrders(self):\n",
    "        for order in self.orders:\n",
    "            self.order_dict['sell' if order.is_sell else 'buy'].append({\n",
    "                'date': order.pub_date,\n",
    "                'price': order.price,\n",
    "                'funds': order.api['funds']\n",
    "            })\n",
    "        print('Orders - {}'.format(len(self.order_dict['sell']) + len(self.order_dict['buy'])))\n",
    "        \n",
    "    def calcRate(self):\n",
    "        for rate_info in self.rate:\n",
    "            resp = json.loads(rate_info.resp)\n",
    "            self.rate_dict['date'].append(rate_info.pub_date)\n",
    "            self.rate_dict['buy_price'].append(resp['asks'][0][0])\n",
    "            self.rate_dict['sell_price'].append(resp['bids'][0][0])\n",
    "        self.last_rate = resp\n",
    "        print('Prices - {}'.format(len(self.rate_dict['date'])))"
   ]
  },
  {
   "cell_type": "code",
   "execution_count": null,
   "metadata": {
    "collapsed": false,
    "deletable": true,
    "editable": true
   },
   "outputs": [],
   "source": [
    "from sqlalchemy.orm.exc import NoResultFound\n",
    "import sqlalchemy as sa\n",
    "from server.trade.VolumeStrategy import VolumeStrategy\n",
    "\n",
    "table_name = 'demo_order' # 'order', 'demo_order'\n",
    "table = getattr(db, table_name)\n",
    "\n",
    "info = []\n",
    "for pair in MultiplePairs.PAIRS:\n",
    "    pairInfo = PairInfo(pair)\n",
    "\n",
    "    pairInfo.orders = session.query(table).filter(\n",
    "        (table.c.pair == pair)\n",
    "        & (table.c.pub_date > start_date_filter)\n",
    "        & (table.c.pub_date < end_date_filter)\n",
    "    ).order_by(table.c.pub_date)\n",
    "\n",
    "    pairInfo.rate = session.query(db.history).filter(\n",
    "        (db.history.c.pub_date > start_date_filter)\n",
    "        & (db.history.c.pub_date < end_date_filter)\n",
    "        & (db.history.c.pair == pair)\n",
    "        & (sa.sql.func.random() < 0.003)\n",
    "    ).order_by(db.history.c.pub_date)\n",
    "    info.append(pairInfo)\n",
    "    pairInfo.calcOrders()\n",
    "    pairInfo.calcRate()"
   ]
  },
  {
   "cell_type": "code",
   "execution_count": null,
   "metadata": {
    "collapsed": false,
    "deletable": true,
    "editable": true
   },
   "outputs": [],
   "source": [
    "import matplotlib.pyplot as plt\n",
    "\n",
    "plt.cla()\n",
    "plt.clf()\n",
    "plt.close('all')\n",
    "fig, axes = plt.subplots(nrows=len(info), figsize=(20,30))\n",
    "\n",
    "for index, pairInfo in enumerate(info):\n",
    "    ay = axes[index]\n",
    "    ay.grid(True)\n",
    "    for name, vals in pairInfo.order_dict.items():\n",
    "        ay.set_title(pairInfo.pair)\n",
    "        ay.plot(\n",
    "            list(map(lambda i: i['date'], vals)), \n",
    "            list(map(lambda i: i['price'], vals)),\n",
    "            color = 'red' if name == 'sell' else 'blue',\n",
    "            marker= '.'\n",
    "        )\n",
    "    rate_dict = pairInfo.rate_dict\n",
    "    ay.plot(rate_dict['date'], rate_dict['buy_price'], alpha=0.2, color='blue')\n",
    "    ay.plot(rate_dict['date'], rate_dict['sell_price'], alpha=0.2, color='red')\n",
    "fig"
   ]
  },
  {
   "cell_type": "code",
   "execution_count": null,
   "metadata": {
    "collapsed": false,
    "deletable": true,
    "editable": true
   },
   "outputs": [],
   "source": [
    "plt.cla()\n",
    "plt.clf()\n",
    "plt.close('all')\n",
    "all_orders = []\n",
    "currencySet = set()\n",
    "\n",
    "for pairInfo in info:\n",
    "    currencySet.add(pairInfo.sell_dir)\n",
    "    currencySet.add(pairInfo.buy_dir)\n",
    "    all_orders = all_orders + pairInfo.get_orders()\n",
    "all_orders = sorted(all_orders, key=lambda order: order['date'])\n",
    "\n",
    "fig, axes = plt.subplots(nrows=len(currencySet), figsize=(20,30))\n",
    "for index, currency in enumerate(currencySet):\n",
    "    ay = axes[index]\n",
    "    ay.grid(True)\n",
    "    ay.set_title(currency)\n",
    "    ay.plot(\n",
    "        list(map(lambda i: i['date'], all_orders)),\n",
    "        list(map(lambda i: i['funds'][currency], all_orders))\n",
    "    )\n",
    "fig"
   ]
  },
  {
   "cell_type": "code",
   "execution_count": null,
   "metadata": {
    "collapsed": false,
    "deletable": true,
    "editable": true
   },
   "outputs": [],
   "source": [
    "plt.cla()\n",
    "plt.clf()\n",
    "plt.close('all')\n",
    "usd_rate_dict = {\n",
    "    'usd': 1\n",
    "}\n",
    "for pairInfo in info:\n",
    "    if (pairInfo.sell_dir == 'usd'):\n",
    "        usd_rate_dict[pairInfo.buy_dir] = float(pairInfo.last_rate['asks'][0][0])\n",
    "\n",
    "fig_balance = plt.figure(figsize=(20,10))\n",
    "\n",
    "ay = fig_balance.add_subplot(1,1,1)\n",
    "def summ_all_funds(funds):\n",
    "    out = 0\n",
    "    for currency in currencySet:\n",
    "        out += float(funds[currency]) * usd_rate_dict[currency]\n",
    "    return out\n",
    "ay.grid(True)\n",
    "ay.plot(\n",
    "    list(map(lambda i: i['date'], all_orders)),\n",
    "    list(map(lambda i: summ_all_funds(i['funds']), all_orders))\n",
    ")\n",
    "fig_balance"
   ]
  },
  {
   "cell_type": "code",
   "execution_count": null,
   "metadata": {
    "collapsed": true,
    "deletable": true,
    "editable": true
   },
   "outputs": [],
   "source": []
  }
 ],
 "metadata": {
  "kernelspec": {
   "display_name": "Python 3",
   "language": "python",
   "name": "python3"
  },
  "language_info": {
   "codemirror_mode": {
    "name": "ipython",
    "version": 3
   },
   "file_extension": ".py",
   "mimetype": "text/x-python",
   "name": "python",
   "nbconvert_exporter": "python",
   "pygments_lexer": "ipython3",
   "version": "3.6.0"
  }
 },
 "nbformat": 4,
 "nbformat_minor": 2
}
