{
 "cells": [
  {
   "cell_type": "code",
   "execution_count": null,
   "metadata": {
    "collapsed": true,
    "deletable": true,
    "editable": true
   },
   "outputs": [],
   "source": [
    "import os\n",
    "import sys\n",
    "pwd = os.getcwd()\n",
    "sys.path.append(os.path.join(pwd, '..', '..'))\n",
    "\n",
    "from server.utils import load_config\n",
    "from server import db\n",
    "from sqlalchemy.orm import sessionmaker\n",
    "import json\n",
    "import matplotlib.pyplot as plt\n",
    "\n",
    "conf_dir = os.path.abspath(os.path.join(pwd, '..', '..', 'config', 'base.yaml'))\n",
    "config = load_config(conf_dir)\n",
    "\n",
    "engine = db.sync_engine(config['postgres'])\n",
    "Session = sessionmaker(bind=engine)\n",
    "session = Session()"
   ]
  },
  {
   "cell_type": "code",
   "execution_count": null,
   "metadata": {
    "collapsed": false,
    "deletable": true,
    "editable": true
   },
   "outputs": [],
   "source": [
    "from sqlalchemy.orm.exc import NoResultFound\n",
    "import sqlalchemy as sa\n",
    "\n",
    "start_date_filter = '2017-03-10 00:00'\n",
    "end_date_filter = '2017-04-28 23:59'\n",
    "sampling = 0.007\n",
    "pair = 'btc_usd'\n",
    "\n",
    "rate = session.query(db.history).filter(\n",
    "        (db.history.c.pub_date > start_date_filter)\n",
    "        & (db.history.c.pub_date < end_date_filter)\n",
    "        & (db.history.c.pair == pair)\n",
    "        & (sa.sql.func.random() < sampling)\n",
    "    ).order_by(db.history.c.pub_date)\n"
   ]
  },
  {
   "cell_type": "code",
   "execution_count": null,
   "metadata": {
    "collapsed": false,
    "deletable": true,
    "editable": true
   },
   "outputs": [],
   "source": [
    "import pandas as pd\n",
    "import json"
   ]
  },
  {
   "cell_type": "code",
   "execution_count": null,
   "metadata": {
    "collapsed": false,
    "deletable": true,
    "editable": true
   },
   "outputs": [],
   "source": [
    "df = pd.DataFrame(columns=['High', 'Low', 'Date'])\n",
    "for index, price in enumerate(rate):\n",
    "    api = json.loads(price.resp)\n",
    "    df.set_value(index, 'High', api['asks'][0][0])\n",
    "    df.set_value(index, 'Low', api['bids'][0][0])\n",
    "    df.set_value(index, 'Date', price.pub_date)"
   ]
  },
  {
   "cell_type": "code",
   "execution_count": null,
   "metadata": {
    "collapsed": false,
    "deletable": true,
    "editable": true
   },
   "outputs": [],
   "source": [
    "df.to_csv('rates.csv', encoding='utf-8')"
   ]
  },
  {
   "cell_type": "code",
   "execution_count": null,
   "metadata": {
    "collapsed": false,
    "deletable": true,
    "editable": true
   },
   "outputs": [],
   "source": [
    "from IPython.display import FileLink\n",
    "FileLink('./rates.csv')"
   ]
  },
  {
   "cell_type": "code",
   "execution_count": null,
   "metadata": {
    "collapsed": true,
    "deletable": true,
    "editable": true
   },
   "outputs": [],
   "source": []
  }
 ],
 "metadata": {
  "kernelspec": {
   "display_name": "Python 3",
   "language": "python",
   "name": "python3"
  },
  "language_info": {
   "codemirror_mode": {
    "name": "ipython",
    "version": 3
   },
   "file_extension": ".py",
   "mimetype": "text/x-python",
   "name": "python",
   "nbconvert_exporter": "python",
   "pygments_lexer": "ipython3",
   "version": "3.6.0"
  }
 },
 "nbformat": 4,
 "nbformat_minor": 2
}
